{
 "cells": [
  {
   "cell_type": "code",
   "id": "initial_id",
   "metadata": {
    "collapsed": true,
    "ExecuteTime": {
     "end_time": "2025-09-03T05:37:41.572293Z",
     "start_time": "2025-09-03T05:37:41.567508Z"
    }
   },
   "source": [
    "# 데이터\n",
    "names = [\"Son\", \"Park\", \"Lee\", \"Kim\", \"Cha\"]\n",
    "positions = [\"공격수\", \"미드필더\", \"미드필더\", \"수비수\", \"공격수\"]\n",
    "numbers = [7, 13, 19, 3, 11]\n",
    "\n",
    "# 이차원 리스트\n",
    "players = [[name, position, number]for name, position, number in zip(names, positions, numbers)]\n",
    "print(players)\n",
    "print(players[0])"
   ],
   "outputs": [
    {
     "name": "stdout",
     "output_type": "stream",
     "text": [
      "[['Son', '공격수', 7], ['Park', '미드필더', 13], ['Lee', '미드필더', 19], ['Kim', '수비수', 3], ['Cha', '공격수', 11]]\n",
      "['Son', '공격수', 7]\n"
     ]
    }
   ],
   "execution_count": 2
  },
  {
   "metadata": {},
   "cell_type": "code",
   "outputs": [],
   "execution_count": null,
   "source": [
    "class SoccerPlayer:\n",
    "    def __init__(self, name, position, number):\n",
    "        self.name = name\n",
    "        self.position = position\n",
    "        self.number = number\n",
    "    def change_back_number(self, new_number):\n",
    "        self.number = new_number\n",
    "    def __str__(self):\n",
    "        return f\"{self.name}({self.position}) : {self.number}\"\n",
    "players_object = [SoccerPlayer]"
   ],
   "id": "f4cef614618a8380"
  }
 ],
 "metadata": {
  "kernelspec": {
   "display_name": "Python 3",
   "language": "python",
   "name": "python3"
  },
  "language_info": {
   "codemirror_mode": {
    "name": "ipython",
    "version": 2
   },
   "file_extension": ".py",
   "mimetype": "text/x-python",
   "name": "python",
   "nbconvert_exporter": "python",
   "pygments_lexer": "ipython2",
   "version": "2.7.6"
  }
 },
 "nbformat": 4,
 "nbformat_minor": 5
}
