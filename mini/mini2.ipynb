{
 "cells": [
  {
   "cell_type": "code",
   "id": "initial_id",
   "metadata": {
    "collapsed": true,
    "ExecuteTime": {
     "end_time": "2025-09-03T04:55:46.726470Z",
     "start_time": "2025-09-03T04:55:46.720818Z"
    }
   },
   "source": [
    "# 🔹 기본 실습 1: 리스트 활용 (추가, 삭제, 수정, 조회, 검색)\n",
    "# 문제:\n",
    "# 리스트를 활용하여 다음 기능을 수행하는 프로그램을 작성하세요.\n",
    "#\n",
    "# 사용자가 입력한 값을 리스트에 추가\n",
    "# 특정 인덱스의 값을 변경\n",
    "# 리스트에서 특정 값을 삭제\n",
    "# 리스트의 모든 요소 조회\n",
    "# 특정 값이 리스트에 있는지 검색\n",
    "#\n",
    "# 단순 기능 구현만 보이기\n",
    "#\n",
    "# 예시)\n",
    "# # 1. 추가\n",
    "my_list = []\n",
    "my_list.append(\"사과\")\n",
    "my_list.append(\"바나나\")\n",
    "my_list.append(\"체리\")\n",
    "print(f\"리스트 출력 : {my_list}\")\n",
    "# # 2. 수정 (첫 번째 요소 변경)\n",
    "my_list[0] = \"오렌지\"\n",
    "print(f\"0번째 인덱스 오렌지 수정 : {my_list}\")\n",
    "# # 3. 삭제 (바나나 삭제)\n",
    "my_list.remove(\"바나나\")\n",
    "print(f\"바나나 삭제 : {my_list}\")\n",
    "# # 4. 조회 (전체 출력)\n",
    "print(\"현재 리스트:\", my_list)\n",
    "#\n",
    "# # 5. 검색 (체리가 있는지 확인)\n",
    "search_item = \"체리\"\n",
    "if search_item in my_list:\n",
    "    print(f\"'{search_item}'가 리스트에 존재합니다.\")\n",
    "else:\n",
    "    print(f\"'{search_item}'가 리스트에 없습니다.\")\n",
    "#\n"
   ],
   "outputs": [
    {
     "name": "stdout",
     "output_type": "stream",
     "text": [
      "리스트 출력 : ['사과', '바나나', '체리']\n",
      "0번째 인덱스 오렌지 수정 : ['오렌지', '바나나', '체리']\n",
      "바나나 삭제 : ['오렌지', '체리']\n",
      "현재 리스트: ['오렌지', '체리']\n",
      "'체리'가 리스트에 존재합니다.\n"
     ]
    }
   ],
   "execution_count": 59
  },
  {
   "metadata": {
    "ExecuteTime": {
     "end_time": "2025-09-03T06:29:19.097536Z",
     "start_time": "2025-09-03T06:29:14.964318Z"
    }
   },
   "cell_type": "code",
   "source": [
    "# 🔹 기본 실습 2: 튜플 활용 (조회, 검색)\n",
    "# 문제:\n",
    "# 튜플을 활용하여 다음 기능을 수행하는 프로그램을 작성하세요.\n",
    "#\n",
    "# 주어진 튜플에서 특정 인덱스의 값을 조회\n",
    "# 특정 값이 튜플에 있는지 검색\n",
    "#\n",
    "# 단순 기능 구현만 보이기\n",
    "\n",
    "find = ('과자', '술', '담배', '빵')\n",
    "n = len(find)\n",
    "c = n - 1 if n > 0 else 0\n",
    "try:\n",
    "    a = int(input(f'몇 번째 인덱스를 검색하시겠어요 0 ~ {c}'))\n",
    "    if 0 <= a < n:\n",
    "        print(find[a])\n",
    "    else:\n",
    "        print(f'유효하지 않은 인덱스입니다. 0 ~ {c} 사이의 정수를 입력하세요.')\n",
    "except ValueError:\n",
    "    print('정수를 입력하세요.')\n",
    "b = input('검색하세요')\n",
    "if b in find:\n",
    "    print(f\"{b} 있습니다.\")\n",
    "else:\n",
    "    print(f\"{b} 없습니다.\")\n"
   ],
   "id": "3b0fa6d90e6f495",
   "outputs": [
    {
     "name": "stdout",
     "output_type": "stream",
     "text": [
      "정수를 입력하세요.\n",
      "safd 없습니다.\n"
     ]
    }
   ],
   "execution_count": 64
  },
  {
   "metadata": {
    "ExecuteTime": {
     "end_time": "2025-09-03T04:55:48.140558300Z",
     "start_time": "2025-09-02T03:45:14.503626Z"
    }
   },
   "cell_type": "code",
   "source": [
    "# 🔹 기본 실습 3: 셋 활용 (추가, 삭제, 조회, 검색)\n",
    "# 문제:\n",
    "# 셋을 활용하여 다음 기능을 수행하는 프로그램을 작성하세요.\n",
    "#\n",
    "# 사용자가 입력한 값을 셋에 추가\n",
    "# 특정 값을 삭제\n",
    "# 셋의 모든 요소 조회\n",
    "# 특정 값이 셋에 있는지 검색\n",
    "#\n",
    "# 단순 기능 구현만 보이기\n",
    "#\n",
    "#\n"
   ],
   "id": "682c154de1275490",
   "outputs": [
    {
     "name": "stdout",
     "output_type": "stream",
     "text": [
      "입력된 문자열 : 공부 숙제 학교\n",
      "입력된 특정문자 : 공부\n",
      "(공부)의 카운트 : 1개\n"
     ]
    }
   ],
   "execution_count": 34
  },
  {
   "metadata": {
    "ExecuteTime": {
     "end_time": "2025-09-03T04:55:48.158893400Z",
     "start_time": "2025-09-02T03:37:50.880941Z"
    }
   },
   "cell_type": "code",
   "source": [
    "# 🔹 응용 실습 1: 학생 목록 관리 (리스트 활용)\n",
    "# 문제:\n",
    "# 학생 이름을 저장하는 리스트를 활용하여 다음 기능을 구현하세요.\n",
    "#\n",
    "# 학생 추가\n",
    "# 학생 삭제\n",
    "# 학생 목록 출력\n",
    "# 특정 학생이 목록에 있는지 검색\n",
    "#\n",
    "# 단순 기능 구현만 보이기\n",
    "#\n",
    "#\n"
   ],
   "id": "247275506bd41de5",
   "outputs": [
    {
     "name": "stdout",
     "output_type": "stream",
     "text": [
      "입력된 문장 : 동해물과 백두산이\n",
      "단어의 개수 : 2\n"
     ]
    }
   ],
   "execution_count": 29
  },
  {
   "metadata": {
    "ExecuteTime": {
     "end_time": "2025-09-03T04:55:48.159902100Z",
     "start_time": "2025-09-02T05:00:55.487500Z"
    }
   },
   "cell_type": "code",
   "source": [
    "# 🔹 응용 실습 2: 상품 재고 관리 (딕셔너리 활용)\n",
    "# 문제:\n",
    "# 딕셔너리를 활용하여 상품 재고를 관리하는 프로그램을 작성하세요.\n",
    "#\n",
    "# 새로운 상품 추가\n",
    "# 특정 상품의 재고 변경\n",
    "# 특정 상품 삭제\n",
    "# 전체 상품 목록 조회\n",
    "# 특정 상품 검색\n",
    "#\n",
    "# 단순 기능 구현만 보이기\n",
    "#\n"
   ],
   "id": "144f85f3123604ff",
   "outputs": [
    {
     "name": "stdout",
     "output_type": "stream",
     "text": [
      "대문자로 입력 받았습니다 :PYTHON\n",
      "소문자로 변경하겠습니다\n",
      "변경된 문자 : python\n"
     ]
    }
   ],
   "execution_count": 38
  },
  {
   "metadata": {
    "ExecuteTime": {
     "end_time": "2025-09-03T04:55:48.160896800Z",
     "start_time": "2025-09-02T06:38:52.668720Z"
    }
   },
   "cell_type": "code",
   "source": [
    "# 🔹 응용 실습 3: 유일한 값 추출기 (셋 활용)\n",
    "# 문제:\n",
    "# 리스트에서 중복된 값을 제거하고, 유일한 값들만 저장하는 프로그램을 작성하세요.\n",
    "#\n",
    "# 단순 기능 구현만 보이기"
   ],
   "id": "2fadad48cf7d0a23",
   "outputs": [
    {
     "name": "stdout",
     "output_type": "stream",
     "text": [
      "📝 입력: 'level'\n",
      "🧹 정리된 문자열: 'level'\n",
      "✅ 결과: 회문입니다! 🎉\n",
      "📝 입력: '토마토'\n",
      "🧹 정리된 문자열: '토마토'\n",
      "✅ 결과: 회문입니다! 🎉\n",
      "📝 입력: 'hello'\n",
      "🧹 정리된 문자열: 'hello'\n",
      "✅ 결과: 회문이 아닙니다.\n",
      "📝 입력: 'A man a plan a canal Panama'\n",
      "🧹 정리된 문자열: 'amanaplanacanalpanama'\n",
      "✅ 결과: 회문입니다! 🎉\n"
     ]
    }
   ],
   "execution_count": 58
  }
 ],
 "metadata": {
  "kernelspec": {
   "display_name": "Python 3",
   "language": "python",
   "name": "python3"
  },
  "language_info": {
   "codemirror_mode": {
    "name": "ipython",
    "version": 2
   },
   "file_extension": ".py",
   "mimetype": "text/x-python",
   "name": "python",
   "nbconvert_exporter": "python",
   "pygments_lexer": "ipython2",
   "version": "2.7.6"
  }
 },
 "nbformat": 4,
 "nbformat_minor": 5
}
