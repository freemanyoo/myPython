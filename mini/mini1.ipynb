{
 "cells": [
  {
   "cell_type": "code",
   "id": "initial_id",
   "metadata": {
    "collapsed": true,
    "ExecuteTime": {
     "end_time": "2025-09-02T03:08:58.261102Z",
     "start_time": "2025-09-02T03:08:55.329036Z"
    }
   },
   "source": [
    "a = input()\n",
    "print(len(a))"
   ],
   "outputs": [
    {
     "name": "stdout",
     "output_type": "stream",
     "text": [
      "3\n"
     ]
    }
   ],
   "execution_count": 5
  },
  {
   "metadata": {
    "ExecuteTime": {
     "end_time": "2025-09-02T03:46:09.906821Z",
     "start_time": "2025-09-02T03:46:03.594887Z"
    }
   },
   "cell_type": "code",
   "source": [
    "def reverse():\n",
    "    a = input(\"문자를 입력하세요\")\n",
    "    b = a[::-1]\n",
    "    print(f\"입력한 문자 : {a}\")\n",
    "    return b\n",
    "\n",
    "c = reverse()\n",
    "print(f\"a를 거꾸로하면 : {c}\")"
   ],
   "id": "3b0fa6d90e6f495",
   "outputs": [
    {
     "name": "stdout",
     "output_type": "stream",
     "text": [
      "입력한 문자이효리\n",
      "a를 거꾸로하면 : 리효이\n"
     ]
    }
   ],
   "execution_count": 35
  },
  {
   "metadata": {
    "ExecuteTime": {
     "end_time": "2025-09-02T03:45:24.681455Z",
     "start_time": "2025-09-02T03:45:14.503626Z"
    }
   },
   "cell_type": "code",
   "source": [
    "def count():\n",
    "    a = input(\"문자열을 입력하세요\")\n",
    "    b = input(\"특정문자를 입력하세요\")\n",
    "    c = a.count(b)\n",
    "    print(f\"입력된 문자열 : {a}\")\n",
    "    print(f\"입력된 특정문자 : {b}\")\n",
    "    return b, c\n",
    "\n",
    "f = count()\n",
    "print(f\"({f[0]})의 카운트 : {f[1]}개\")"
   ],
   "id": "682c154de1275490",
   "outputs": [
    {
     "name": "stdout",
     "output_type": "stream",
     "text": [
      "입력된 문자열 : 공부 숙제 학교\n",
      "입력된 특정문자 : 공부\n",
      "(공부)의 카운트 : 1개\n"
     ]
    }
   ],
   "execution_count": 34
  },
  {
   "metadata": {
    "ExecuteTime": {
     "end_time": "2025-09-02T03:37:57.458664Z",
     "start_time": "2025-09-02T03:37:50.880941Z"
    }
   },
   "cell_type": "code",
   "source": [
    "def count2():\n",
    "    a = input(\"문장을 입력하세요\")\n",
    "    b = len(a.split())\n",
    "    print(f\"입력된 문장 : {a}\")\n",
    "    return b\n",
    "\n",
    "c = count2()\n",
    "print(f\"단어의 개수 : {c}\")"
   ],
   "id": "247275506bd41de5",
   "outputs": [
    {
     "name": "stdout",
     "output_type": "stream",
     "text": [
      "입력된 문장 : 동해물과 백두산이\n",
      "단어의 개수 : 2\n"
     ]
    }
   ],
   "execution_count": 29
  },
  {
   "metadata": {
    "ExecuteTime": {
     "end_time": "2025-09-02T05:01:03.000720Z",
     "start_time": "2025-09-02T05:00:55.487500Z"
    }
   },
   "cell_type": "code",
   "source": [
    "def upperlower():\n",
    "    a = input(\"문자열을 입력하세요\")\n",
    "    if a == a.upper():\n",
    "        b = a.lower()\n",
    "        print(f\"대문자로 입력 받았습니다 : {a}\")\n",
    "        print(f\"소문자로 변경하겠습니다\")\n",
    "    else:\n",
    "        b = a.upper()\n",
    "        print(f\"소문자로 입력 받았습니다 : {a}\")\n",
    "        print(f\"대문자로 변경하겠습니다\")\n",
    "    return b\n",
    "c = upperlower()\n",
    "print(f\"변경된 문자 : {c}\")"
   ],
   "id": "144f85f3123604ff",
   "outputs": [
    {
     "name": "stdout",
     "output_type": "stream",
     "text": [
      "대문자로 입력 받았습니다 :PYTHON\n",
      "소문자로 변경하겠습니다\n",
      "변경된 문자 : python\n"
     ]
    }
   ],
   "execution_count": 38
  },
  {
   "metadata": {
    "ExecuteTime": {
     "end_time": "2025-09-02T06:38:52.684484Z",
     "start_time": "2025-09-02T06:38:52.668720Z"
    }
   },
   "cell_type": "code",
   "source": [
    "def check_palindrome(text):\n",
    "    \"\"\"간단한 회문 검사 함수\"\"\"\n",
    "    import re\n",
    "    if not isinstance(text, str):  # 문자열이 아닌 경우 오류 처리\n",
    "        return \"❌ 오류: 문자열을 입력해주세요.\"\n",
    "\n",
    "    original = text\n",
    "    cleaned = re.sub(r'[^a-zA-Z0-9가-힣]', '', text).lower()  # 특수문자 제거, 소문자 변환\n",
    "    is_palindrome = cleaned == cleaned[::-1]  # 뒤집어서 비교\n",
    "\n",
    "    result = f\"📝 입력: '{original}'\\n\"\n",
    "    result += f\"🧹 정리된 문자열: '{cleaned}'\\n\"\n",
    "    result += f\"✅ 결과: {'회문입니다! 🎉' if is_palindrome else '회문이 아닙니다.'}\"\n",
    "    return result\n",
    "\n",
    "# 함수 호출 예시 (여기서 문자열을 직접 전달)\n",
    "print(check_palindrome(\"level\"))          # 영어 회문\n",
    "print(check_palindrome(\"토마토\"))          # 한글 회문\n",
    "print(check_palindrome(\"hello\"))          # 회문 아님\n",
    "print(check_palindrome(\"A man a plan a canal Panama\"))  # 공백 포함\n"
   ],
   "id": "2fadad48cf7d0a23",
   "outputs": [
    {
     "name": "stdout",
     "output_type": "stream",
     "text": [
      "📝 입력: 'level'\n",
      "🧹 정리된 문자열: 'level'\n",
      "✅ 결과: 회문입니다! 🎉\n",
      "📝 입력: '토마토'\n",
      "🧹 정리된 문자열: '토마토'\n",
      "✅ 결과: 회문입니다! 🎉\n",
      "📝 입력: 'hello'\n",
      "🧹 정리된 문자열: 'hello'\n",
      "✅ 결과: 회문이 아닙니다.\n",
      "📝 입력: 'A man a plan a canal Panama'\n",
      "🧹 정리된 문자열: 'amanaplanacanalpanama'\n",
      "✅ 결과: 회문입니다! 🎉\n"
     ]
    }
   ],
   "execution_count": 58
  },
  {
   "metadata": {},
   "cell_type": "code",
   "outputs": [],
   "execution_count": null,
   "source": "",
   "id": "74f84e0a604ed31e"
  }
 ],
 "metadata": {
  "kernelspec": {
   "display_name": "Python 3",
   "language": "python",
   "name": "python3"
  },
  "language_info": {
   "codemirror_mode": {
    "name": "ipython",
    "version": 2
   },
   "file_extension": ".py",
   "mimetype": "text/x-python",
   "name": "python",
   "nbconvert_exporter": "python",
   "pygments_lexer": "ipython2",
   "version": "2.7.6"
  }
 },
 "nbformat": 4,
 "nbformat_minor": 5
}
