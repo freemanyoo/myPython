{
 "cells": [
  {
   "cell_type": "code",
   "id": "initial_id",
   "metadata": {
    "collapsed": true,
    "ExecuteTime": {
     "end_time": "2025-09-03T06:51:27.711648Z",
     "start_time": "2025-09-03T06:51:27.706032Z"
    }
   },
   "source": [
    "# 🔹 기본 실습 1: 클래스와 객체 생성\n",
    "#\n",
    "# 문제:\n",
    "# 클래스를 정의하고, 이를 사용하여 객체를 생성한 후, 해당 객체의 속성을 출력하세요.\n",
    "#\n",
    "# 클래스 : Person,\n",
    "# 속성: name, age\n",
    "# 메서드 : introduce\n",
    "# 안녕하세요, 저는 철수이고 25살입니다.\n",
    "class Person:\n",
    "    def __init__(self, name , age):\n",
    "        self.name = name\n",
    "        self.age = age\n",
    "\n",
    "    def introduce(self):\n",
    "        print(f\"안녕하세요, 저는{self.name}이고 {self.age}살입니다.\")\n",
    "p1 = Person(\"철수\", 25)\n",
    "p1.introduce()"
   ],
   "outputs": [
    {
     "name": "stdout",
     "output_type": "stream",
     "text": [
      "안녕하세요, 저는철수이고 25살입니다.\n"
     ]
    }
   ],
   "execution_count": 7
  },
  {
   "metadata": {
    "ExecuteTime": {
     "end_time": "2025-09-04T01:07:00.687954Z",
     "start_time": "2025-09-04T01:07:00.682645Z"
    }
   },
   "cell_type": "code",
   "source": [
    "#\n",
    "# 🔹 기본 실습 2: 상속과 메서드 오버라이딩\n",
    "# 문제:\n",
    "# 부모 클래스 Animal 를 상속받아 새로운 클래스 Dog , Cat를 만들고,\n",
    "# 메서드 sound 를 오버라이딩하여 다르게 동작하도록 구현하세요.\n",
    "class Animal:\n",
    "    def sound(self):\n",
    "        return \"소리내기\"\n",
    "    def action(self):\n",
    "        return \"행동하기\"\n",
    "\n",
    "class dog(Animal):\n",
    "    def sound(self):\n",
    "        return \"멍멍\"\n",
    "    def action(self):\n",
    "        return \"앉아\"\n",
    "\n",
    "class cat(Animal):\n",
    "    def sound(self):\n",
    "        return \"야옹\"\n",
    "    def action(self):\n",
    "        return \"잠자기\"\n",
    "\n",
    "animals = [dog(), cat()]\n",
    "\n",
    "for animal in animals:\n",
    "    print(animal.sound())\n",
    "    print(animal.action())\n",
    "\n"
   ],
   "id": "517950ed9de340de",
   "outputs": [
    {
     "name": "stdout",
     "output_type": "stream",
     "text": [
      "멍멍\n",
      "앉아\n",
      "야옹\n",
      "잠자기\n"
     ]
    }
   ],
   "execution_count": 21
  },
  {
   "metadata": {
    "ExecuteTime": {
     "end_time": "2025-09-04T00:12:45.910029Z",
     "start_time": "2025-09-04T00:12:45.903608Z"
    }
   },
   "cell_type": "code",
   "source": [
    "#\n",
    "# 🔹 기본 실습 3: 캡슐화 (가시성 제어)\n",
    "# 문제:\n",
    "# 클래스 BankAccount 에서 속성 owner, balance을 (__balance) private으로 선언하고,\n",
    "# 이를 접근하는 getter(get_balance) 및 setter(deposit) 메서드를 구현하세요.\n",
    "#\n",
    "#\n",
    "class BankAccount:\n",
    "    def __init__(self, owner: str, balance: int = 0) -> None:\n",
    "        self.owner = owner\n",
    "        self.__balance = 0\n",
    "        # 초기 잔액도 동일한 검증 로직 통과\n",
    "        if balance:\n",
    "            self.deposit(balance)\n",
    "\n",
    "    def get_balance(self) -> int:\n",
    "        return self.__balance\n",
    "\n",
    "    def deposit(self, amount: int) -> None:\n",
    "        if not isinstance(amount, int):\n",
    "            raise TypeError(\"입금액은 정수여야 합니다.\")  # 형식 오류 [TypeError]\n",
    "        if amount <= 0:\n",
    "            raise ValueError(\"입금액은 0보다 커야 합니다.\")  # 값 오류 [ValueError]\n",
    "        self.__balance += amount\n",
    "\n",
    "    def withdraw(self, amount: int) -> None:\n",
    "        if not isinstance(amount, int):\n",
    "            raise TypeError(\"출금액은 정수여야 합니다.\")\n",
    "        if amount <= 0:\n",
    "            raise ValueError(\"출금액은 0보다 커야 합니다.\")\n",
    "        if amount > self.__balance:\n",
    "            raise ValueError(\"잔액이 부족합니다.\")\n",
    "        self.__balance -= amount\n",
    "\n",
    "p1 = BankAccount(\"유영준\")\n",
    "p1.deposit(1000)\n",
    "p1.deposit(1000)\n",
    "p1.withdraw(500)\n",
    "print(f'잔액{p1.get_balance()}')"
   ],
   "id": "b884bb977364239",
   "outputs": [
    {
     "name": "stdout",
     "output_type": "stream",
     "text": [
      "잔액1500\n"
     ]
    }
   ],
   "execution_count": 18
  },
  {
   "metadata": {
    "ExecuteTime": {
     "end_time": "2025-09-04T03:05:01.020973Z",
     "start_time": "2025-09-04T03:05:01.006176Z"
    }
   },
   "cell_type": "code",
   "source": [
    "#\n",
    "# 🔹 응용 실습 1: 직원 관리 시스템 (클래스 및 인스턴스 활용)\n",
    "# 문제:\n",
    "# Employee 클래스를 만들고,\n",
    "# 직원 정보( name, position, salary)를 저장 및 출력(get_info)하는 프로그램을 작성하세요.\n",
    "#\n",
    "class Employee:\n",
    "    def __init__(self, name, position, salary):\n",
    "        self.name = name\n",
    "        self.position = position\n",
    "        self.salary = salary\n",
    "\n",
    "    def get_info(self):\n",
    "        return"
   ],
   "id": "baf9ce2833744fe7",
   "outputs": [],
   "execution_count": 22
  },
  {
   "metadata": {},
   "cell_type": "code",
   "outputs": [],
   "execution_count": null,
   "source": [
    "#\n",
    "# 🔹 응용 실습 2: 도서 관리 시스템 (상속 및 다형성 활용)\n",
    "# 문제:\n",
    "# 도서 Book , 전자책 EBook, 종이책 PaperBook 클래스를 구현하고,\n",
    "# display_info() 메서드를 다형성을 적용하여 다르게 동작하도록 만드세요.\n",
    "#\n",
    "#\n",
    "# 🔹 응용 실습 3: 자동차 관리 시스템 (캡슐화 및 메서드 활용)\n",
    "# 문제:\n",
    "# 자동차 Car 의 연료 잔량을 관리하는 시스템을 만들고,\n",
    "# 캡슐화를 적용하여 연료의 상태를 private으로 보호하세요.\n",
    "# 속성: model, fuel\n",
    "# 게터: get_fuel\n",
    "# 메서드 : drive(self, distance)\n",
    "# refuel(self, amount): # 연료 추가"
   ],
   "id": "42be03f3f4b3adea"
  }
 ],
 "metadata": {
  "kernelspec": {
   "display_name": "Python 3",
   "language": "python",
   "name": "python3"
  },
  "language_info": {
   "codemirror_mode": {
    "name": "ipython",
    "version": 2
   },
   "file_extension": ".py",
   "mimetype": "text/x-python",
   "name": "python",
   "nbconvert_exporter": "python",
   "pygments_lexer": "ipython2",
   "version": "2.7.6"
  }
 },
 "nbformat": 4,
 "nbformat_minor": 5
}
