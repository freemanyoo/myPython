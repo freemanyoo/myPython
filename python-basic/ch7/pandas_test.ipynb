{
 "cells": [
  {
   "metadata": {},
   "cell_type": "code",
   "outputs": [],
   "execution_count": null,
   "source": [
    "# Pandas는\n",
    "# 파이썬에서 표(table) 형태의 데이터를 쉽고\n",
    "# 직관적으로 다룰 수 있도록 만들어진 강력한 라이브러리입니다.\n",
    "# 엑셀 스프레드시트나 데이터베이스의 테이블처럼\n",
    "# 행과 열로 이루어진 데이터를 처리하는 데 최적화되어 있습니다. 🐼\n",
    "\n",
    "# 기본 개념 및 설명\n",
    "# 1. Pandas를 왜 사용할까요?\n",
    "# 1)\n",
    "# 데이터 핸들링: CSV, 엑셀 파일 등 다양한 포맷의 데이터를\n",
    "# 손쉽게 불러오고 저장할 수 있습니다.\n",
    "# 2)\n",
    "# 데이터 정제:\n",
    "# 비어있는 값(결측치)을 처리하거나,\n",
    "# 데이터를 원하는 형태로 가공하는 작업이 매우 편리합니다.\n",
    "# 3)\n",
    "# 데이터 분석 및 탐색:\n",
    "# 데이터의 통계 정보를 쉽게 확인하고,\n",
    "# 데이터를 정렬, 필터링, 그룹화하는 등 분석에 필요한 대부분의 기능을 제공합니다.\n",
    "#\n",
    "# 2. 핵심 데이터 구조: Series와 DataFrame\n",
    "#\n",
    "# Pandas의 핵심은 두 가지 주요 데이터 구조입니다.\n",
    "#\n",
    "# Series (시리즈):\n",
    "# 1차원 배열과 같은 구조로,\n",
    "# 하나의 열(column)에 해당하는 데이터를 담습니다.\n",
    "# 각 데이터는 **인덱스(Index)**라는 고유한 이름표를 가집니다.\n",
    "#\n",
    "# DataFrame (데이터프레임):\n",
    "# 2차원 테이블(표) 구조로, 여러 개의 Series가 모여 만들어집니다.\n",
    "# 행(row)과 열(column)으로 구성되며,\n",
    "# 각 행과 열마다 인덱스를 가집니다.\n",
    "# Pandas를 사용한다고 하면 대부분 이 DataFrame을 다루는 것을 의미합니다.\n",
    "\n",
    "# 설치\n",
    "# pip install pandas\n",
    "\n",
    "# 실제 사용\n",
    "# import pandas as pd"
   ],
   "id": "dce5439b4651bf38"
  },
  {
   "metadata": {
    "ExecuteTime": {
     "end_time": "2025-09-04T05:12:39.409578Z",
     "start_time": "2025-09-04T05:12:38.008965Z"
    }
   },
   "cell_type": "code",
   "source": [
    "# 학생들의 이름, 학년, 점수 데이터\n",
    "import pandas as pd\n",
    "student_data = {\n",
    "    '이름': ['김판다', '이효리', '유재석', '강호동'],\n",
    "    '학년': [2, 4, 1, 3],\n",
    "    '점수': [85, 95, 70, 88]\n",
    "}\n",
    "\n",
    "# 딕셔너리를 사용하여 DataFrame 생성\n",
    "df = pd.DataFrame(student_data)\n",
    "\n",
    "# 생성된 DataFrame 출력\n",
    "print(df)"
   ],
   "id": "c8b8426f0cf429dd",
   "outputs": [
    {
     "name": "stdout",
     "output_type": "stream",
     "text": [
      "    이름  학년  점수\n",
      "0  김판다   2  85\n",
      "1  이효리   4  95\n",
      "2  유재석   1  70\n",
      "3  강호동   3  88\n"
     ]
    }
   ],
   "execution_count": 1
  },
  {
   "metadata": {
    "ExecuteTime": {
     "end_time": "2025-09-04T05:13:47.600252Z",
     "start_time": "2025-09-04T05:13:47.592306Z"
    }
   },
   "cell_type": "code",
   "source": [
    "#  데이터 선택하기 (Selecting Data)\n",
    "\n",
    "# DataFrame에서 원하는 열이나 행을 선택하는 것은 가장 기본적인 작업입니다.\n",
    "# '이름' 열만 선택하기 (Series 형태로 반환됨)\n",
    "names = df['이름']\n",
    "print(\"--- '이름' 열 선택 ---\")\n",
    "print(names)\n",
    "\n",
    "# '이름'과 '점수' 두 개의 열 선택하기 (DataFrame 형태로 반환됨)\n",
    "# [[...]] 처럼 대괄호를 두 번 사용합니다.\n",
    "name_scores = df[['이름', '점수']]\n",
    "print(\"\\n--- '이름', '점수' 열 선택 ---\")\n",
    "print(name_scores)"
   ],
   "id": "ab1d776f2d71d9df",
   "outputs": [
    {
     "name": "stdout",
     "output_type": "stream",
     "text": [
      "--- '이름' 열 선택 ---\n",
      "0    김판다\n",
      "1    이효리\n",
      "2    유재석\n",
      "3    강호동\n",
      "Name: 이름, dtype: object\n",
      "\n",
      "--- '이름', '점수' 열 선택 ---\n",
      "    이름  점수\n",
      "0  김판다  85\n",
      "1  이효리  95\n",
      "2  유재석  70\n",
      "3  강호동  88\n"
     ]
    }
   ],
   "execution_count": 2
  },
  {
   "metadata": {
    "ExecuteTime": {
     "end_time": "2025-09-04T05:14:38.186741Z",
     "start_time": "2025-09-04T05:14:38.177368Z"
    }
   },
   "cell_type": "code",
   "source": [
    "# 조건으로 데이터 필터링하기\n",
    "# 점수가 90점 이상인 학생들만 추출\n",
    "high_scores = df[df['점수'] >= 90]\n",
    "print(\"--- 점수가 90점 이상인 학생 ---\")\n",
    "print(high_scores)"
   ],
   "id": "68bfe04ec205b6f0",
   "outputs": [
    {
     "name": "stdout",
     "output_type": "stream",
     "text": [
      "--- 점수가 90점 이상인 학생 ---\n",
      "    이름  학년  점수\n",
      "1  이효리   4  95\n"
     ]
    }
   ],
   "execution_count": 3
  },
  {
   "cell_type": "code",
   "execution_count": null,
   "id": "initial_id",
   "metadata": {
    "collapsed": true
   },
   "outputs": [],
   "source": [
    "\n",
    "# ✅ 1 ️⃣ Pandas Series 정의하기\n",
    "#\n",
    "# Series: Pandas에서 1차원 배열(리스트와 유사) 한 데이터 구조로,\n",
    "# Index(인덱스)를 사용하여 데이터를 쉽게 접근할 수 있음.\n",
    "\n",
    "# 📌 문법\n",
    "\n",
    "import pandas as pd\n",
    "\n",
    "series = pd.Series(data, index=labels)\n",
    "\n",
    "# 📌 예제\n",
    "\n",
    "import pandas as pd\n",
    "\n",
    "data = [100, 200, 300, 400]\n",
    "index_labels = ['A', 'B', 'C', 'D']\n",
    "series = pd.Series(data, index=index_labels)\n",
    "print(series)\n",
    "\n",
    "# 출력 결과:\n",
    "#\n",
    "# A    100\n",
    "# B    200\n",
    "# C    300\n",
    "# D    400\n",
    "# dtype: int64\n",
    "\n",
    "📌 실무 활용\n",
    "\n",
    "금융 데이터에서 특정 날짜별 주식 가격 저장\n",
    "\n",
    "설문조사 데이터에서 특정 응답자의 답변 저장"
   ]
  }
 ],
 "metadata": {
  "kernelspec": {
   "display_name": "Python 3",
   "language": "python",
   "name": "python3"
  },
  "language_info": {
   "codemirror_mode": {
    "name": "ipython",
    "version": 2
   },
   "file_extension": ".py",
   "mimetype": "text/x-python",
   "name": "python",
   "nbconvert_exporter": "python",
   "pygments_lexer": "ipython2",
   "version": "2.7.6"
  }
 },
 "nbformat": 4,
 "nbformat_minor": 5
}
